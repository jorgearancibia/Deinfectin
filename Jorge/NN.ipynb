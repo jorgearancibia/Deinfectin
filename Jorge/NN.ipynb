{
 "cells": [
  {
   "cell_type": "markdown",
   "metadata": {},
   "source": [
    "# Reconocimiento de zapatos usando regresión logística y NN\n",
    "\n",
    "Mediante el uso de redes neuronales se planea generar un algoritmo que permita discriminar si una imagen corresponde a un zapato o no.\n",
    "\n",
    "#### Librerías a utilizar\n",
    "\n",
    "- [Numpy](www.numpy.org) Paquete fundamental para computación científica en Python.\n",
    "- [matplotlib](http://matplotlib.org) Librería muy utilizada para generar gráficas.\n",
    "- [PIL](http://www.pythonware.com/products/pil/) y [scipy](https://www.scipy.org/) son usados para testear el algoritmo al final con cualquier foto."
   ]
  },
  {
   "cell_type": "code",
   "execution_count": null,
   "metadata": {},
   "outputs": [],
   "source": []
  }
 ],
 "metadata": {
  "kernelspec": {
   "display_name": "Python 3",
   "language": "python",
   "name": "python3"
  },
  "language_info": {
   "codemirror_mode": {
    "name": "ipython",
    "version": 3
   },
   "file_extension": ".py",
   "mimetype": "text/x-python",
   "name": "python",
   "nbconvert_exporter": "python",
   "pygments_lexer": "ipython3",
   "version": "3.7.3"
  }
 },
 "nbformat": 4,
 "nbformat_minor": 2
}
